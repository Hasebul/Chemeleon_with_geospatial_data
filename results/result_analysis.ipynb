{
 "cells": [
  {
   "cell_type": "code",
   "execution_count": 314,
   "metadata": {},
   "outputs": [],
   "source": [
    "import json\n",
    "\n",
    "# Open the JSON file with UTF-8 encoding\n",
    "with open('./nearby/chameleon_chatgpt_test_cache.json', 'r') as json_file:\n",
    "    # Load the JSON data into a Python dictionary\n",
    "    data = json.load(json_file)"
   ]
  },
  {
   "cell_type": "code",
   "execution_count": 338,
   "metadata": {},
   "outputs": [],
   "source": [
    "all_pid = [\"39\",\n",
    "\"135\",\n",
    "\"157\",\n",
    "\"357\",\n",
    "\"360\",\n",
    "\"414\",\n",
    "\"415\",\n",
    "\"418\",\n",
    "\"440\",\n",
    "\"451\",\n",
    "\"454\",\n",
    "\"534\",\n",
    "\"541\",\n",
    "\"542\",\n",
    "\"543\",\n",
    "\"544\",\n",
    "]"
   ]
  },
  {
   "cell_type": "code",
   "execution_count": 339,
   "metadata": {},
   "outputs": [
    {
     "data": {
      "text/plain": [
       "['39',\n",
       " '135',\n",
       " '157',\n",
       " '357',\n",
       " '360',\n",
       " '414',\n",
       " '415',\n",
       " '418',\n",
       " '440',\n",
       " '451',\n",
       " '454',\n",
       " '534',\n",
       " '541',\n",
       " '542',\n",
       " '543',\n",
       " '544']"
      ]
     },
     "execution_count": 339,
     "metadata": {},
     "output_type": "execute_result"
    }
   ],
   "source": [
    "all_pid"
   ]
  },
  {
   "cell_type": "code",
   "execution_count": 340,
   "metadata": {},
   "outputs": [
    {
     "name": "stdout",
     "output_type": "stream",
     "text": [
      "545\n",
      "There are some hindu_temple distance from the current location Taj Mahal, Agra, India in below:\n",
      "Hindu Temple ️ ( distance: 2.673408386113421 kilometers, rating:3, total reviewer:1)\n",
      "Dalihai Mandir Hindu Temple ( distance: 1.0983407225330148 kilometers, rating:4.3, total reviewer:39)\n",
      "Shri Khatu Shyam Ji Mandir ( distance: 2.973062147044213 kilometers, rating:4.8, total reviewer:1852)\n",
      "HINDU TEMPLE ( distance: 7.989270250123443 kilometers, rating:3.7, total reviewer:3)\n",
      "Shiv Mandir Hindu Temple ( distance: 1.0756021755741125 kilometers, rating:0, total reviewer:0)\n",
      "Madan Mohan Temple Dalhai ( distance: 1.0971044322778214 kilometers, rating:4.4, total reviewer:30)\n",
      "Hindu Temple ( distance: 7.194758790061249 kilometers, rating:4.8, total reviewer:4)\n",
      "TEMPLE ( distance: 3.3727070425878343 kilometers, rating:4.3, total reviewer:10)\n",
      "Shri Mankameshwar Temple, Agra ( distance: 2.6125416951917493 kilometers, rating:4.7, total reviewer:6106)\n",
      "Prachin Bhairo Temple ( distance: 0.40569116563278695 kilometers, rating:4.4, total reviewer:38)\n",
      "Shakti Temple ( distance: 1.4901205508040303 kilometers, rating:4.8, total reviewer:23)\n",
      "Prachin Shree Laxminarayan ji, Agra (Kushwaha Samaj Seva Sameti) ( distance: 0.39162191709014993 kilometers, rating:4.6, total reviewer:10)\n",
      "Shri Bajrang Bali Temple ( distance: 1.475908869981727 kilometers, rating:4.2, total reviewer:6)\n",
      "Maa Rajrajeshveri Kela Devi Mandir Hindu Temple ( distance: 0.9475544796260011 kilometers, rating:4.9, total reviewer:11)\n",
      "Hindu temple ( distance: 2.851564506587488 kilometers, rating:3.5, total reviewer:4)\n",
      "Hanuman Mandir Hindu Temple ( distance: 0.6876956431253783 kilometers, rating:4.9, total reviewer:14)\n",
      "Rathore Panchayati Temple ( distance: 1.0147599259055586 kilometers, rating:4.3, total reviewer:49)\n",
      "Radha-Krishna Temple ( distance: 5.295884123412466 kilometers, rating:4.6, total reviewer:20)\n",
      "Sai Mandir ( distance: 2.480519461130951 kilometers, rating:4.8, total reviewer:155)\n",
      "Hindu Mandir ( distance: 1.9920239626122576 kilometers, rating:4, total reviewer:2)\n",
      "\n",
      "The second nearest temple to the Taj Mahal in Agra, India is Hanuman Mandir, which is located at a distance of 0.6876956431253783 kilometers.\n",
      "\n",
      "Therefore, the answer is B.\n",
      "What is the second nearest temple to the Taj Mahal in Agra, India?\n",
      "['Prachin Shree Laxminarayan ji', 'Hanuman Mandir', 'Shri Khatu Shyam Temple', 'Dande wala baba ka mandir ']\n",
      "Shri Khatu Shyam Temple\n"
     ]
    }
   ],
   "source": [
    "for d in data:\n",
    "    if not d['true_false']:\n",
    "        pid = d['pid']\n",
    "        # print(pid)\n",
    "        if pid not in all_pid:\n",
    "            print(pid)\n",
    "            all_pid.append(pid)\n",
    "            print(d['response'])\n",
    "            print(d['solution'])\n",
    "            print(d['example']['question'])\n",
    "            print(d['example']['choices'])\n",
    "            print(d['example']['answer'])\n",
    "            break"
   ]
  },
  {
   "cell_type": "code",
   "execution_count": 336,
   "metadata": {},
   "outputs": [
    {
     "data": {
      "text/plain": [
       "17"
      ]
     },
     "execution_count": 336,
     "metadata": {},
     "output_type": "execute_result"
    }
   ],
   "source": [
    "len(all_pid)"
   ]
  },
  {
   "cell_type": "code",
   "execution_count": 260,
   "metadata": {},
   "outputs": [
    {
     "data": {
      "text/plain": [
       "['39',\n",
       " '135',\n",
       " '157',\n",
       " '176',\n",
       " '347',\n",
       " '356',\n",
       " '357',\n",
       " '359',\n",
       " '360',\n",
       " '363',\n",
       " '366',\n",
       " '372',\n",
       " '373',\n",
       " '414',\n",
       " '415',\n",
       " '418',\n",
       " '419',\n",
       " '439',\n",
       " '440',\n",
       " '441',\n",
       " '451',\n",
       " '452',\n",
       " '453',\n",
       " '454',\n",
       " '455',\n",
       " '461',\n",
       " '509',\n",
       " '532',\n",
       " '534',\n",
       " '535',\n",
       " '540',\n",
       " '541',\n",
       " '542',\n",
       " '543',\n",
       " '544',\n",
       " '545',\n",
       " '547',\n",
       " '548']"
      ]
     },
     "execution_count": 260,
     "metadata": {},
     "output_type": "execute_result"
    }
   ],
   "source": [
    "all_pid"
   ]
  },
  {
   "cell_type": "code",
   "execution_count": 337,
   "metadata": {},
   "outputs": [
    {
     "name": "stdout",
     "output_type": "stream",
     "text": [
      "\"39\",\n",
      "\"135\",\n",
      "\"157\",\n",
      "\"357\",\n",
      "\"360\",\n",
      "\"414\",\n",
      "\"415\",\n",
      "\"418\",\n",
      "\"440\",\n",
      "\"451\",\n",
      "\"454\",\n",
      "\"534\",\n",
      "\"541\",\n",
      "\"542\",\n",
      "\"543\",\n",
      "\"544\",\n",
      "\"545\",\n"
     ]
    }
   ],
   "source": [
    "a =[]\n",
    "for m in all_pid:\n",
    "    print(f\"\\\"{m}\\\",\")"
   ]
  },
  {
   "cell_type": "code",
   "execution_count": 145,
   "metadata": {},
   "outputs": [
    {
     "data": {
      "text/plain": [
       "[]"
      ]
     },
     "execution_count": 145,
     "metadata": {},
     "output_type": "execute_result"
    }
   ],
   "source": [
    "a"
   ]
  },
  {
   "cell_type": "code",
   "execution_count": null,
   "metadata": {},
   "outputs": [],
   "source": [
    "There are total 2 routes from Duhail,Doha to Al Khor Family Park & Zoo. The route information is provided below:\n",
    "\n",
    "Route 1: (Via) Al Shamal Rd (37.1 km, 29 mins)\n",
    "Details steps are provided below: \n",
    "Head east (36 m, 1 min) \n",
    "Turn left (0.2 km, 1 min) \n",
    "Turn left (0.4 km, 1 min) \n",
    "Turn right (0.8 km, 2 mins) \n",
    "At the roundabout, take the 3rd exit (0.3 km, 1 min) \n",
    "At the roundabout, take the 1st exit (0.6 km, 1 min) \n",
    "Keep right (0.7 km, 1 min) \n",
    "Keep left (0.4 km, 1 min) \n",
    "Keep left (0.8 km, 1 min) \n",
    "Merge onto Doha Expy (0.4 km, 1 min) \n",
    "Continue onto Al Shamal Rd (5.2 km, 3 mins) \n",
    "Keep left to stay on Al Shamal Rd (24.3 km, 14 mins) \n",
    "Slight right (0.5 km, 1 min) \n",
    "Slight right toward Al Khor Park Rd (0.1 km, 1 min) \n",
    "Continue onto Al Khor Park Rd (2.0 km, 2 mins) \n",
    "Continue straight (0.2 km, 1 min) \n",
    "Turn rightDestination will be on the left (0.2 km, 1 min) \n",
    "\n",
    "Route 2: (Via) Al Khor Coastal Rd (46.2 km, 38 mins)\n",
    "Details steps are provided below: \n",
    "Head east (36 m, 1 min) \n",
    "Turn left (0.2 km, 1 min) \n",
    "Turn left (0.4 km, 1 min) \n",
    "Turn right (0.8 km, 2 mins) \n",
    "At the roundabout, take the 3rd exit (0.3 km, 1 min) \n",
    "At the roundabout, take the 1st exit (0.6 km, 1 min) \n",
    "Keep left (0.4 km, 1 min) \n",
    "Slight right to merge onto Al Tarfa St (1.3 km, 1 min) \n",
    "Keep left to stay on Al Tarfa St (0.7 km, 1 min) \n",
    "Continue straight to stay on Al Tarfa St (1.3 km, 2 mins) \n",
    "Continue onto Al Tarfa St (1.8 km, 2 mins) \n",
    "Slight right onto the ramp to Al Khor Coastal Rd (0.3 km, 1 min) \n",
    "Take the ramp to Al Khor Coastal Rd (0.5 km, 1 min) \n",
    "Take the ramp onto Al Khor Coastal Rd (19.4 km, 12 mins) \n",
    "Take exit 42 to stay on Al Khor Coastal Rd (1.9 km, 2 mins) \n",
    "Take the ramp to Simaisma Rd (1.0 km, 1 min) \n",
    "Take the ramp onto Simaisma Rd (3.8 km, 3 mins) \n",
    "Take the ramp onto Al Shamal Rd (8.4 km, 5 mins) \n",
    "Slight right (0.5 km, 1 min) \n",
    "Slight right toward Al Khor Park Rd (0.1 km, 1 min) \n",
    "Continue onto Al Khor Park Rd (2.0 km, 2 mins) \n",
    "Continue straight (0.2 km, 1 min) \n",
    "Turn rightDestination will be on the left (0.2 km, 1 min) \n",
    "\n",
    "\n",
    "The fastest route from Duhail, Doha to Al Khor Family Park & Zoo is via Al Shamal Rd. Therefore, the answer is B.\n",
    "I am at Duhail,Doha. What's the fastest route from my current location  to Al Khor Family Park & Zoo?\n",
    "['Via Al Khor Coastal Rd ', 'Via Al Shamal Rd', 'via Al Khor Coastal Rd and Al Shamal Rd', 'via Al Sailiya Rd']\n",
    "Via Al Shamal Rd"
   ]
  }
 ],
 "metadata": {
  "kernelspec": {
   "display_name": "Python 3",
   "language": "python",
   "name": "python3"
  },
  "language_info": {
   "codemirror_mode": {
    "name": "ipython",
    "version": 3
   },
   "file_extension": ".py",
   "mimetype": "text/x-python",
   "name": "python",
   "nbconvert_exporter": "python",
   "pygments_lexer": "ipython3",
   "version": "3.11.5"
  }
 },
 "nbformat": 4,
 "nbformat_minor": 2
}
