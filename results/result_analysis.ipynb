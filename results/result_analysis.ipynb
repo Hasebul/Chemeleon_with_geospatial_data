{
 "cells": [
  {
   "cell_type": "code",
   "execution_count": 78,
   "metadata": {},
   "outputs": [],
   "source": [
    "import json\n",
    "\n",
    "# Open the JSON file with UTF-8 encoding\n",
    "with open('./trip/chameleon_chatgpt_test_cache.json', 'r') as json_file:\n",
    "    # Load the JSON data into a Python dictionary\n",
    "    data = json.load(json_file)"
   ]
  },
  {
   "cell_type": "code",
   "execution_count": 79,
   "metadata": {},
   "outputs": [],
   "source": [
    "all_pid = []"
   ]
  },
  {
   "cell_type": "code",
   "execution_count": 88,
   "metadata": {},
   "outputs": [],
   "source": [
    "for d in data:\n",
    "    if not d['true_false']:\n",
    "        pid = d['pid']\n",
    "        # print(pid)\n",
    "        if pid not in all_pid:\n",
    "            print(pid)\n",
    "            all_pid.append(pid)\n",
    "            print(d['response'])\n",
    "            print(d['solution'])\n",
    "            print(d['example']['question'])\n",
    "            print(d['example']['choices'])\n",
    "            print(d['example']['answer'])\n",
    "            break"
   ]
  },
  {
   "cell_type": "code",
   "execution_count": 89,
   "metadata": {},
   "outputs": [],
   "source": [
    "miss_agent = [258, 288, 468, 470,472]"
   ]
  },
  {
   "cell_type": "code",
   "execution_count": 90,
   "metadata": {},
   "outputs": [
    {
     "data": {
      "text/plain": [
       "5"
      ]
     },
     "execution_count": 90,
     "metadata": {},
     "output_type": "execute_result"
    }
   ],
   "source": [
    "len(miss_agent)"
   ]
  },
  {
   "cell_type": "code",
   "execution_count": 76,
   "metadata": {},
   "outputs": [
    {
     "name": "stdout",
     "output_type": "stream",
     "text": [
      "\"258\",\n",
      "\"277\",\n",
      "\"288\",\n",
      "\"323\",\n",
      "\"468\",\n",
      "\"470\",\n",
      "\"472\",\n",
      "\"475\",\n"
     ]
    }
   ],
   "source": [
    "a =[]\n",
    "for m in miss_agent:\n",
    "    print(f\"\\\"{m}\\\",\")"
   ]
  },
  {
   "cell_type": "code",
   "execution_count": 52,
   "metadata": {},
   "outputs": [
    {
     "data": {
      "text/plain": [
       "['246',\n",
       " '258',\n",
       " '270',\n",
       " '277',\n",
       " '283',\n",
       " '288',\n",
       " '322',\n",
       " '323',\n",
       " '466',\n",
       " '467',\n",
       " '468',\n",
       " '470',\n",
       " '472',\n",
       " '473',\n",
       " '475',\n",
       " '478',\n",
       " '490',\n",
       " '492']"
      ]
     },
     "execution_count": 52,
     "metadata": {},
     "output_type": "execute_result"
    }
   ],
   "source": [
    "a"
   ]
  }
 ],
 "metadata": {
  "kernelspec": {
   "display_name": "Python 3",
   "language": "python",
   "name": "python3"
  },
  "language_info": {
   "codemirror_mode": {
    "name": "ipython",
    "version": 3
   },
   "file_extension": ".py",
   "mimetype": "text/x-python",
   "name": "python",
   "nbconvert_exporter": "python",
   "pygments_lexer": "ipython3",
   "version": "3.11.5"
  }
 },
 "nbformat": 4,
 "nbformat_minor": 2
}
