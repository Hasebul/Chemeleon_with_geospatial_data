{
 "cells": [
  {
   "cell_type": "code",
   "execution_count": 1,
   "metadata": {},
   "outputs": [],
   "source": [
    "import json\n",
    "import codecs"
   ]
  },
  {
   "cell_type": "code",
   "execution_count": 3,
   "metadata": {},
   "outputs": [],
   "source": [
    "# Open the JSON file with UTF-8 encoding\n",
    "with codecs.open('dataset.json', 'r', 'utf-8-sig') as json_file:\n",
    "    # Load the JSON data into a Python dictionary\n",
    "    data = json.load(json_file)"
   ]
  },
  {
   "cell_type": "code",
   "execution_count": 4,
   "metadata": {},
   "outputs": [
    {
     "data": {
      "text/plain": [
       "261"
      ]
     },
     "execution_count": 4,
     "metadata": {},
     "output_type": "execute_result"
    }
   ],
   "source": [
    "len(data)"
   ]
  },
  {
   "cell_type": "code",
   "execution_count": 5,
   "metadata": {},
   "outputs": [
    {
     "name": "stdout",
     "output_type": "stream",
     "text": [
      "{'id': 554, 'question': 'I want to travel from the Obelisco de Buenos Aires to the Caminito in La Boca by car. How much distance I need to cover if I go Via Av. Ing. Huergo and Av. Almte. Brown?', 'choices': ['5213 m', '6123 m', '6336 m', '6666 m'], 'answer': '6123 m', 'hint': '', 'image': '', 'skill': 'Fetch context from corresponding google map api and based on the context answer the question ', 'solution': 'To find the answer, You have to choose one option from the MCQ', 'split': 'test', 'classification': 'nearby'}\n"
     ]
    }
   ],
   "source": [
    "for m in data:\n",
    "    l = {\n",
    "    \"id\": m[\"id\"],\n",
    "    \"question\": m['question'],\n",
    "    \"choices\": m['answer']['options'],\n",
    "    \"answer\":m['answer']['options'][m['answer']['correct']],\n",
    "    \"hint\":\"\",\n",
    "    \"image\":\"\",\n",
    "    \"skill\":\"Fetch context from corresponding google map api and based on the context answer the question \",\n",
    "    \"solution\":\"To find the answer, You have to choose one option from the MCQ\",\n",
    "    \"split\":\"test\",\n",
    "    \"classification\": m['classification']\n",
    "    }\n",
    "print(l)"
   ]
  },
  {
   "cell_type": "code",
   "execution_count": 6,
   "metadata": {},
   "outputs": [],
   "source": [
    "reduce_output = []\n",
    "type = []\n",
    "for m in data:\n",
    "    l = {\n",
    "    \"id\": m[\"id\"],\n",
    "    \"question\": m['question'],\n",
    "    \"choices\": m['answer']['options'],\n",
    "    \"answer\":m['answer']['options'][m['answer']['correct']],\n",
    "    \"hint\":\"\",\n",
    "    \"image\":\"\",\n",
    "    \"skill\":\"Fetch context from corresponding google map api and based on the context answer the question \",\n",
    "    \"solution\":\"To find the answer, You have to choose one option from the MCQ\",\n",
    "    \"split\":\"test\",\n",
    "    \"classification\": m['classification']\n",
    "    }\n",
    "    id = m[\"id\"]\n",
    "    type.append(m['classification'])\n",
    "    reduce_output.append(l)\n",
    "\n",
    "    "
   ]
  },
  {
   "cell_type": "code",
   "execution_count": 7,
   "metadata": {},
   "outputs": [
    {
     "data": {
      "text/plain": [
       "{None, 'nearby', 'poi', 'routing', 'trip'}"
      ]
     },
     "execution_count": 7,
     "metadata": {},
     "output_type": "execute_result"
    }
   ],
   "source": [
    "set(type)"
   ]
  },
  {
   "cell_type": "code",
   "execution_count": 8,
   "metadata": {},
   "outputs": [
    {
     "data": {
      "text/plain": [
       "261"
      ]
     },
     "execution_count": 8,
     "metadata": {},
     "output_type": "execute_result"
    }
   ],
   "source": [
    "len(reduce_output)"
   ]
  },
  {
   "cell_type": "code",
   "execution_count": 52,
   "metadata": {},
   "outputs": [],
   "source": [
    "# Open a file for writing in write mode with UTF-8 encoding\n",
    "with open('text_data_reduce.json', mode='w', encoding='utf8') as json_file:\n",
    "    # Write the JSON data to the file\n",
    "    json.dump(reduce_output, json_file, ensure_ascii=False,indent=4)"
   ]
  },
  {
   "cell_type": "markdown",
   "metadata": {},
   "source": [
    "# create dataset for trip"
   ]
  },
  {
   "cell_type": "code",
   "execution_count": 53,
   "metadata": {},
   "outputs": [],
   "source": [
    "trip = {}\n",
    "array_id = []\n",
    "for r in reduce_output:\n",
    "    if r[\"classification\"] == \"trip\":\n",
    "        id = r[\"id\"]\n",
    "        del r[\"id\"]\n",
    "        trip[f\"{id}\"] = r \n",
    "        array_id.append(f\"{id}\")\n",
    "# Open a file for writing in write mode with UTF-8 encoding\n",
    "with open('./trip/problems.json', mode='w', encoding='utf8') as json_file:\n",
    "    # Write the JSON data to the file\n",
    "    json.dump(trip, json_file, ensure_ascii=False,indent=4)\n",
    "\n",
    "pid_split = {\n",
    "    \"minitest\" : array_id\n",
    "}\n",
    "# Open a file for writing in write mode with UTF-8 encoding\n",
    "with open('./trip/pid_splits.json', mode='w', encoding='utf8') as json_file:\n",
    "    # Write the JSON data to the file\n",
    "    json.dump(pid_split, json_file, ensure_ascii=False,indent=4)\n"
   ]
  },
  {
   "cell_type": "code",
   "execution_count": 54,
   "metadata": {},
   "outputs": [
    {
     "data": {
      "text/plain": [
       "68"
      ]
     },
     "execution_count": 54,
     "metadata": {},
     "output_type": "execute_result"
    }
   ],
   "source": [
    "len(array_id)"
   ]
  },
  {
   "cell_type": "markdown",
   "metadata": {},
   "source": [
    "# create dataset for routing"
   ]
  },
  {
   "cell_type": "code",
   "execution_count": 55,
   "metadata": {},
   "outputs": [],
   "source": [
    "trip = {}\n",
    "array_id = []\n",
    "for r in reduce_output:\n",
    "    if r[\"classification\"] == \"routing\":\n",
    "        id = r[\"id\"]\n",
    "        del r[\"id\"]\n",
    "        trip[f\"{id}\"] = r \n",
    "        array_id.append(f\"{id}\")\n",
    "# Open a file for writing in write mode with UTF-8 encoding\n",
    "with open('./routing/problems.json', mode='w', encoding='utf8') as json_file:\n",
    "    # Write the JSON data to the file\n",
    "    json.dump(trip, json_file, ensure_ascii=False,indent=4)\n",
    "\n",
    "pid_split = {\n",
    "    \"minitest\" : array_id\n",
    "}\n",
    "# Open a file for writing in write mode with UTF-8 encoding\n",
    "with open('./routing/pid_splits.json', mode='w', encoding='utf8') as json_file:\n",
    "    # Write the JSON data to the file\n",
    "    json.dump(pid_split, json_file, ensure_ascii=False,indent=4)"
   ]
  },
  {
   "cell_type": "code",
   "execution_count": 56,
   "metadata": {},
   "outputs": [
    {
     "data": {
      "text/plain": [
       "44"
      ]
     },
     "execution_count": 56,
     "metadata": {},
     "output_type": "execute_result"
    }
   ],
   "source": [
    "len(array_id)"
   ]
  },
  {
   "cell_type": "markdown",
   "metadata": {},
   "source": [
    "# creating dataset for nearby"
   ]
  },
  {
   "cell_type": "code",
   "execution_count": 9,
   "metadata": {},
   "outputs": [
    {
     "name": "stdout",
     "output_type": "stream",
     "text": [
      "Directory already exists.\n"
     ]
    }
   ],
   "source": [
    "import os\n",
    "\n",
    "# Define the directory path\n",
    "directory = \"./nearby\"\n",
    "# 'nearby', 'poi'\n",
    "# Check if the directory exists, and create it if it doesn't\n",
    "if not os.path.exists(directory):\n",
    "    os.makedirs(directory)\n",
    "    print(\"Directory created successfully!\")\n",
    "else:\n",
    "    print(\"Directory already exists.\")"
   ]
  },
  {
   "cell_type": "code",
   "execution_count": 10,
   "metadata": {},
   "outputs": [],
   "source": [
    "trip = {}\n",
    "array_id = []\n",
    "for r in reduce_output:\n",
    "    if r[\"classification\"] == \"nearby\":\n",
    "        id = r[\"id\"]\n",
    "        del r[\"id\"]\n",
    "        trip[f\"{id}\"] = r \n",
    "        array_id.append(f\"{id}\")\n",
    "# Open a file for writing in write mode with UTF-8 encoding\n",
    "with open('./nearby/problems.json', mode='w', encoding='utf8') as json_file:\n",
    "    # Write the JSON data to the file\n",
    "    json.dump(trip, json_file, ensure_ascii=False,indent=4)\n",
    "\n",
    "pid_split = {\n",
    "    \"minitest\" : array_id\n",
    "}\n",
    "# Open a file for writing in write mode with UTF-8 encoding\n",
    "with open('./nearby/pid_splits.json', mode='w', encoding='utf8') as json_file:\n",
    "    # Write the JSON data to the file\n",
    "    json.dump(pid_split, json_file, ensure_ascii=False,indent=4)"
   ]
  },
  {
   "cell_type": "code",
   "execution_count": 11,
   "metadata": {},
   "outputs": [
    {
     "data": {
      "text/plain": [
       "83"
      ]
     },
     "execution_count": 11,
     "metadata": {},
     "output_type": "execute_result"
    }
   ],
   "source": [
    "len(array_id)"
   ]
  },
  {
   "cell_type": "markdown",
   "metadata": {},
   "source": [
    "# creating dataset for poi"
   ]
  },
  {
   "cell_type": "code",
   "execution_count": 60,
   "metadata": {},
   "outputs": [
    {
     "name": "stdout",
     "output_type": "stream",
     "text": [
      "Directory created successfully!\n"
     ]
    }
   ],
   "source": [
    "import os\n",
    "\n",
    "# Define the directory path\n",
    "directory = \"./poi\"\n",
    "# 'nearby', 'poi'\n",
    "# Check if the directory exists, and create it if it doesn't\n",
    "if not os.path.exists(directory):\n",
    "    os.makedirs(directory)\n",
    "    print(\"Directory created successfully!\")\n",
    "else:\n",
    "    print(\"Directory already exists.\")"
   ]
  },
  {
   "cell_type": "code",
   "execution_count": 64,
   "metadata": {},
   "outputs": [],
   "source": [
    "trip = {}\n",
    "array_id = []\n",
    "for r in reduce_output:\n",
    "    if r[\"classification\"] == \"poi\":\n",
    "        id = r[\"id\"]\n",
    "        del r[\"id\"]\n",
    "        trip[f\"{id}\"] = r \n",
    "        array_id.append(f\"{id}\")\n",
    "# Open a file for writing in write mode with UTF-8 encoding\n",
    "with open('./poi/problems.json', mode='w', encoding='utf8') as json_file:\n",
    "    # Write the JSON data to the file\n",
    "    json.dump(trip, json_file, ensure_ascii=False,indent=4)\n",
    "\n",
    "pid_split = {\n",
    "    \"minitest\" : array_id\n",
    "}\n",
    "# Open a file for writing in write mode with UTF-8 encoding\n",
    "with open('./poi/pid_splits.json', mode='w', encoding='utf8') as json_file:\n",
    "    # Write the JSON data to the file\n",
    "    json.dump(pid_split, json_file, ensure_ascii=False,indent=4)"
   ]
  },
  {
   "cell_type": "code",
   "execution_count": 14,
   "metadata": {},
   "outputs": [
    {
     "data": {
      "text/plain": [
       "20"
      ]
     },
     "execution_count": 14,
     "metadata": {},
     "output_type": "execute_result"
    }
   ],
   "source": [
    "len(array_id)"
   ]
  },
  {
   "cell_type": "markdown",
   "metadata": {},
   "source": [
    "# Create Dataset for Unanswerable"
   ]
  },
  {
   "cell_type": "code",
   "execution_count": 12,
   "metadata": {},
   "outputs": [
    {
     "name": "stdout",
     "output_type": "stream",
     "text": [
      "Directory created successfully!\n"
     ]
    }
   ],
   "source": [
    "import os\n",
    "\n",
    "# Define the directory path\n",
    "directory = \"./unanswerable\"\n",
    "# 'nearby', 'poi'\n",
    "# Check if the directory exists, and create it if it doesn't\n",
    "if not os.path.exists(directory):\n",
    "    os.makedirs(directory)\n",
    "    print(\"Directory created successfully!\")\n",
    "else:\n",
    "    print(\"Directory already exists.\")"
   ]
  },
  {
   "cell_type": "code",
   "execution_count": 13,
   "metadata": {},
   "outputs": [],
   "source": [
    "trip = {}\n",
    "array_id = []\n",
    "for r in reduce_output:\n",
    "    if r[\"classification\"] is None:\n",
    "        id = r[\"id\"]\n",
    "        del r[\"id\"]\n",
    "        trip[f\"{id}\"] = r \n",
    "        array_id.append(f\"{id}\")\n",
    "# Open a file for writing in write mode with UTF-8 encoding\n",
    "with open('./unanswerable/problems.json', mode='w', encoding='utf8') as json_file:\n",
    "    # Write the JSON data to the file\n",
    "    json.dump(trip, json_file, ensure_ascii=False,indent=4)\n",
    "\n",
    "pid_split = {\n",
    "    \"minitest\" : array_id\n",
    "}\n",
    "# Open a file for writing in write mode with UTF-8 encoding\n",
    "with open('./unanswerable/pid_splits.json', mode='w', encoding='utf8') as json_file:\n",
    "    # Write the JSON data to the file\n",
    "    json.dump(pid_split, json_file, ensure_ascii=False,indent=4)"
   ]
  }
 ],
 "metadata": {
  "kernelspec": {
   "display_name": "Python 3",
   "language": "python",
   "name": "python3"
  },
  "language_info": {
   "codemirror_mode": {
    "name": "ipython",
    "version": 3
   },
   "file_extension": ".py",
   "mimetype": "text/x-python",
   "name": "python",
   "nbconvert_exporter": "python",
   "pygments_lexer": "ipython3",
   "version": "3.11.5"
  }
 },
 "nbformat": 4,
 "nbformat_minor": 2
}
